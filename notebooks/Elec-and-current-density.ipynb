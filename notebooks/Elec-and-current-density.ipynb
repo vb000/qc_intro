{
 "cells": [
  {
   "cell_type": "code",
   "execution_count": 1,
   "metadata": {},
   "outputs": [],
   "source": [
    "# Bandhav Veluri\n",
    "\n",
    "import numpy as np"
   ]
  },
  {
   "cell_type": "code",
   "execution_count": 3,
   "metadata": {},
   "outputs": [],
   "source": [
    "# Constants\n",
    "\n",
    "hbar = 1.0546e-34\n",
    "m0 = 9.1094e-31\n",
    "eV = 1.602e-19\n",
    "Adot = 1e-10\n",
    "nm = 1e-9"
   ]
  },
  {
   "cell_type": "code",
   "execution_count": null,
   "metadata": {},
   "outputs": [],
   "source": [
    "####################################\n",
    "# 3\n",
    "\n",
    "me = 0.067 * m0\n",
    "mh = 0.47 * m0\n",
    "L = 6 * nm\n",
    "\n",
    "def E_2d(mc, l, m, L1, L2):\n",
    "    return (((hbar*np.pi)**2) / (2*mc)) * \\\n",
    "            (((l / L1) ** 2) + ((m / L2) **2))\n",
    "\n",
    "def DOS_nanowire(x, y, L1, L2, )"
   ]
  }
 ],
 "metadata": {
  "kernelspec": {
   "display_name": "Python (qc)",
   "language": "python",
   "name": "qc"
  },
  "language_info": {
   "codemirror_mode": {
    "name": "ipython",
    "version": 3
   },
   "file_extension": ".py",
   "mimetype": "text/x-python",
   "name": "python",
   "nbconvert_exporter": "python",
   "pygments_lexer": "ipython3",
   "version": "3.7.6"
  }
 },
 "nbformat": 4,
 "nbformat_minor": 4
}
