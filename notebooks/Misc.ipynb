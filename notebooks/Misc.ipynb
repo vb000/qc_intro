{
 "cells": [
  {
   "cell_type": "code",
   "execution_count": 4,
   "metadata": {},
   "outputs": [],
   "source": [
    "# Bandhav Veluri\n",
    "\n",
    "import numpy as np\n",
    "%matplotlib notebook\n",
    "import matplotlib.pyplot as plt\n",
    "\n",
    "# Constants\n",
    "\n",
    "hbar = 1.0546e-34\n",
    "m0 = 9.1094e-31\n",
    "eV = 1.602e-19\n",
    "meV = 1e-3 * eV\n",
    "Adot = 1.0e-10\n",
    "nm = 1.0e-9\n",
    "c = 3e8"
   ]
  },
  {
   "cell_type": "code",
   "execution_count": 6,
   "metadata": {},
   "outputs": [
    {
     "name": "stdout",
     "output_type": "stream",
     "text": [
      "1.7576666666666667e-25\n"
     ]
    }
   ],
   "source": [
    "print(hbar / (2 * 0.3 * nm))"
   ]
  },
  {
   "cell_type": "code",
   "execution_count": 3,
   "metadata": {},
   "outputs": [
    {
     "name": "stdout",
     "output_type": "stream",
     "text": [
      "0.6204351334224336\n"
     ]
    }
   ],
   "source": [
    "def E(wavelength):\n",
    "    return (2 * np.pi * hbar) * c / wavelength\n",
    "\n",
    "print(E(2000*nm) / eV)"
   ]
  },
  {
   "cell_type": "code",
   "execution_count": 5,
   "metadata": {},
   "outputs": [
    {
     "name": "stdout",
     "output_type": "stream",
     "text": [
      "5.211633666569739e-09\n"
     ]
    }
   ],
   "source": [
    "print(np.sqrt(3 * (hbar**2) * (np.pi**2) / (2 * 0.067*m0 * 0.62*eV)))"
   ]
  }
 ],
 "metadata": {
  "kernelspec": {
   "display_name": "Python (qc)",
   "language": "python",
   "name": "qc"
  },
  "language_info": {
   "codemirror_mode": {
    "name": "ipython",
    "version": 3
   },
   "file_extension": ".py",
   "mimetype": "text/x-python",
   "name": "python",
   "nbconvert_exporter": "python",
   "pygments_lexer": "ipython3",
   "version": "3.7.6"
  }
 },
 "nbformat": 4,
 "nbformat_minor": 4
}
