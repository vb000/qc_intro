{
 "cells": [
  {
   "cell_type": "code",
   "execution_count": 8,
   "metadata": {},
   "outputs": [],
   "source": [
    "# Bandhav Veluri\n",
    "\n",
    "import numpy as np\n",
    "%matplotlib notebook\n",
    "import matplotlib.pyplot as plt\n",
    "\n",
    "# Constants\n",
    "\n",
    "hbar = 1.0546e-34\n",
    "m0 = 9.1094e-31\n",
    "eV = 1.602e-19\n",
    "meV = 1e-3 * eV\n",
    "Adot = 1.0e-10\n",
    "nm = 1.0e-9\n",
    "c = 3e8"
   ]
  },
  {
   "cell_type": "code",
   "execution_count": 6,
   "metadata": {},
   "outputs": [
    {
     "name": "stdout",
     "output_type": "stream",
     "text": [
      "1.7576666666666667e-25\n"
     ]
    }
   ],
   "source": [
    "print(hbar / (2 * 0.3 * nm))"
   ]
  },
  {
   "cell_type": "code",
   "execution_count": 10,
   "metadata": {},
   "outputs": [
    {
     "name": "stdout",
     "output_type": "stream",
     "text": [
      "2.011134954367694\n"
     ]
    }
   ],
   "source": [
    "def E(wavelength):\n",
    "    return (2 * np.pi * hbar) * c / wavelength\n",
    "\n",
    "print(E(617*nm) / eV)"
   ]
  }
 ],
 "metadata": {
  "kernelspec": {
   "display_name": "Python (qc)",
   "language": "python",
   "name": "qc"
  },
  "language_info": {
   "codemirror_mode": {
    "name": "ipython",
    "version": 3
   },
   "file_extension": ".py",
   "mimetype": "text/x-python",
   "name": "python",
   "nbconvert_exporter": "python",
   "pygments_lexer": "ipython3",
   "version": "3.7.6"
  }
 },
 "nbformat": 4,
 "nbformat_minor": 4
}
