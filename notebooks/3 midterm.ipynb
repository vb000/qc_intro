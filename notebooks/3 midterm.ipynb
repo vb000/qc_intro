{
 "cells": [
  {
   "cell_type": "code",
   "execution_count": 1,
   "metadata": {},
   "outputs": [
    {
     "name": "stdout",
     "output_type": "stream",
     "text": [
      "5.211633666569739e-09\n"
     ]
    }
   ],
   "source": [
    "# Developed by Bandhav Veluri\n",
    "#\n",
    "# Mindterm winter 2020\n",
    "# For problem 3\n",
    "\n",
    "import numpy as np\n",
    "%matplotlib notebook\n",
    "import matplotlib.pyplot as plt\n",
    "\n",
    "\n",
    "# Constants\n",
    "\n",
    "hbar = 1.0546e-34\n",
    "m0 = 9.1094e-31\n",
    "eV = 1.602e-19\n",
    "meV = 1e-3 * eV\n",
    "Adot = 1.0e-10\n",
    "nm = 1.0e-9\n",
    "c = 3e8\n",
    "\n",
    "# Length of the GaAs nanowire for 2000nm radiation by CB-CB transition\n",
    "print(np.sqrt(3 * (hbar**2) * (np.pi**2) / (2 * 0.067*m0 * 0.62*eV)))"
   ]
  }
 ],
 "metadata": {
  "kernelspec": {
   "display_name": "Python (qc)",
   "language": "python",
   "name": "qc"
  },
  "language_info": {
   "codemirror_mode": {
    "name": "ipython",
    "version": 3
   },
   "file_extension": ".py",
   "mimetype": "text/x-python",
   "name": "python",
   "nbconvert_exporter": "python",
   "pygments_lexer": "ipython3",
   "version": "3.7.6"
  }
 },
 "nbformat": 4,
 "nbformat_minor": 4
}
